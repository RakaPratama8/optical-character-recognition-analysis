{
 "cells": [
  {
   "cell_type": "code",
   "execution_count": 1,
   "id": "6b122d92-d8ef-4fe2-9765-3a0de445a226",
   "metadata": {},
   "outputs": [],
   "source": [
    "import cv2\n",
    "from matplotlib import pyplot as plt\n",
    "import os"
   ]
  },
  {
   "cell_type": "code",
   "execution_count": 2,
   "id": "2a7c3f50-4872-43ff-8f35-554455d08353",
   "metadata": {},
   "outputs": [],
   "source": [
    "def display(im_path):\n",
    "    dpi = 80\n",
    "    im_data = plt.imread(im_path)\n",
    "\n",
    "    height, width  = im_data.shape[:2]\n",
    "    \n",
    "    # What size does the figure need to be in inches to fit the image?\n",
    "    figsize = width / float(dpi), height / float(dpi)\n",
    "\n",
    "    # Create a figure of the right size with one axes that takes up the full figure\n",
    "    fig = plt.figure(figsize=figsize)\n",
    "    ax = fig.add_axes([0, 0, 1, 1])\n",
    "\n",
    "    # Hide spines, ticks, etc.\n",
    "    ax.axis('off')\n",
    "\n",
    "    # Display the image.\n",
    "    ax.imshow(im_data, cmap='gray')\n",
    "\n",
    "    plt.show()"
   ]
  },
  {
   "cell_type": "code",
   "execution_count": 3,
   "id": "13e7fc22-a5d5-49d9-86a3-e87bf5796e80",
   "metadata": {},
   "outputs": [],
   "source": [
    "def generate_image(image_data, filename):\n",
    "    os.makedirs(\"temp\", exist_ok=True)\n",
    "    cv2.imwrite(f\"temp/{filename}.jpg\", image_data)"
   ]
  },
  {
   "cell_type": "code",
   "execution_count": 4,
   "id": "bbe3ab90-028d-4ca1-8468-ada4bc577164",
   "metadata": {},
   "outputs": [],
   "source": [
    "image_path = \"data/list-of-names.jpg\"\n",
    "image = cv2.imread(image_path)"
   ]
  },
  {
   "cell_type": "code",
   "execution_count": 5,
   "id": "7fd00849-0166-44d5-880d-ba087bfcb69a",
   "metadata": {},
   "outputs": [],
   "source": [
    "gray = cv2.cvtColor(image, cv2.COLOR_BGR2GRAY)"
   ]
  },
  {
   "cell_type": "code",
   "execution_count": 6,
   "id": "45c05267-f8d7-4f90-9b47-f2f4ed087ba6",
   "metadata": {},
   "outputs": [],
   "source": [
    "generate_image(gray, \"gray\")"
   ]
  },
  {
   "cell_type": "code",
   "execution_count": 7,
   "id": "f5196a53-b4fd-446e-aae1-5c740f28132e",
   "metadata": {},
   "outputs": [],
   "source": [
    "blur = cv2.GaussianBlur(gray, (7,7), 0)"
   ]
  },
  {
   "cell_type": "code",
   "execution_count": 8,
   "id": "d30a4875-2254-418e-9b88-4cd1869c4c83",
   "metadata": {},
   "outputs": [],
   "source": [
    "generate_image(blur, \"blur\")"
   ]
  },
  {
   "cell_type": "code",
   "execution_count": 9,
   "id": "d44f8d46-979a-4a73-8422-953212e3677e",
   "metadata": {},
   "outputs": [],
   "source": [
    "thresh = cv2.threshold(blur, 0, 255, cv2.THRESH_BINARY_INV + cv2.THRESH_OTSU)[1]"
   ]
  },
  {
   "cell_type": "code",
   "execution_count": 10,
   "id": "82eeb2bb-cf3e-498b-8535-0d9870b4c741",
   "metadata": {},
   "outputs": [],
   "source": [
    "generate_image(thresh, \"thresh\")"
   ]
  },
  {
   "cell_type": "code",
   "execution_count": 12,
   "id": "7f8649c0-08e5-4b8a-aaf0-ec60bd44a3b1",
   "metadata": {},
   "outputs": [],
   "source": [
    "kernel = cv2.getStructuringElement(cv2.MORPH_RECT, (3, 13))\n",
    "dilate = cv2.dilate(thresh, kernel, iterations=1)\n",
    "generate_image(dilate, \"dilate\")"
   ]
  },
  {
   "cell_type": "code",
   "execution_count": null,
   "id": "fd327659-b737-416c-97ff-678917408b85",
   "metadata": {},
   "outputs": [],
   "source": []
  }
 ],
 "metadata": {
  "kernelspec": {
   "display_name": "Python 3 (ipykernel)",
   "language": "python",
   "name": "python3"
  },
  "language_info": {
   "codemirror_mode": {
    "name": "ipython",
    "version": 3
   },
   "file_extension": ".py",
   "mimetype": "text/x-python",
   "name": "python",
   "nbconvert_exporter": "python",
   "pygments_lexer": "ipython3",
   "version": "3.9.13"
  }
 },
 "nbformat": 4,
 "nbformat_minor": 5
}
