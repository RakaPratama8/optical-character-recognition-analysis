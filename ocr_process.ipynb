{
 "cells": [
  {
   "cell_type": "code",
   "execution_count": 1,
   "id": "6b122d92-d8ef-4fe2-9765-3a0de445a226",
   "metadata": {},
   "outputs": [],
   "source": [
    "import pytesseract\n",
    "import cv2\n",
    "from matplotlib import pyplot as plt\n",
    "import os"
   ]
  },
  {
   "cell_type": "code",
   "execution_count": 2,
   "id": "2a7c3f50-4872-43ff-8f35-554455d08353",
   "metadata": {},
   "outputs": [],
   "source": [
    "def display(im_path):\n",
    "    dpi = 80\n",
    "    im_data = plt.imread(im_path)\n",
    "\n",
    "    height, width  = im_data.shape[:2]\n",
    "    \n",
    "    # What size does the figure need to be in inches to fit the image?\n",
    "    figsize = width / float(dpi), height / float(dpi)\n",
    "\n",
    "    # Create a figure of the right size with one axes that takes up the full figure\n",
    "    fig = plt.figure(figsize=figsize)\n",
    "    ax = fig.add_axes([0, 0, 1, 1])\n",
    "\n",
    "    # Hide spines, ticks, etc.\n",
    "    ax.axis('off')\n",
    "\n",
    "    # Display the image.\n",
    "    ax.imshow(im_data, cmap='gray')\n",
    "\n",
    "    plt.show()"
   ]
  },
  {
   "cell_type": "code",
   "execution_count": 3,
   "id": "13e7fc22-a5d5-49d9-86a3-e87bf5796e80",
   "metadata": {},
   "outputs": [],
   "source": [
    "def generate_image(image_data, filename):\n",
    "    os.makedirs(\"temp\", exist_ok=True)\n",
    "    cv2.imwrite(f\"temp/{filename}.jpg\", image_data)"
   ]
  },
  {
   "cell_type": "code",
   "execution_count": 4,
   "id": "bbe3ab90-028d-4ca1-8468-ada4bc577164",
   "metadata": {},
   "outputs": [],
   "source": [
    "image_path = \"data/list-of-names.jpg\"\n",
    "image = cv2.imread(image_path)\n",
    "base_image = image.copy()"
   ]
  },
  {
   "cell_type": "code",
   "execution_count": 5,
   "id": "7fd00849-0166-44d5-880d-ba087bfcb69a",
   "metadata": {},
   "outputs": [],
   "source": [
    "gray = cv2.cvtColor(image, cv2.COLOR_BGR2GRAY)"
   ]
  },
  {
   "cell_type": "code",
   "execution_count": 6,
   "id": "45c05267-f8d7-4f90-9b47-f2f4ed087ba6",
   "metadata": {},
   "outputs": [],
   "source": [
    "generate_image(gray, \"gray\")"
   ]
  },
  {
   "cell_type": "code",
   "execution_count": 7,
   "id": "f5196a53-b4fd-446e-aae1-5c740f28132e",
   "metadata": {},
   "outputs": [],
   "source": [
    "blur = cv2.GaussianBlur(gray, (7,7), 0)"
   ]
  },
  {
   "cell_type": "code",
   "execution_count": 8,
   "id": "d30a4875-2254-418e-9b88-4cd1869c4c83",
   "metadata": {},
   "outputs": [],
   "source": [
    "generate_image(blur, \"blur\")"
   ]
  },
  {
   "cell_type": "code",
   "execution_count": 9,
   "id": "d44f8d46-979a-4a73-8422-953212e3677e",
   "metadata": {},
   "outputs": [],
   "source": [
    "thresh = cv2.threshold(blur, 0, 255, cv2.THRESH_BINARY_INV + cv2.THRESH_OTSU)[1]"
   ]
  },
  {
   "cell_type": "code",
   "execution_count": 10,
   "id": "82eeb2bb-cf3e-498b-8535-0d9870b4c741",
   "metadata": {},
   "outputs": [],
   "source": [
    "generate_image(thresh, \"thresh\")"
   ]
  },
  {
   "cell_type": "code",
   "execution_count": 11,
   "id": "7f8649c0-08e5-4b8a-aaf0-ec60bd44a3b1",
   "metadata": {},
   "outputs": [],
   "source": [
    "kernel = cv2.getStructuringElement(cv2.MORPH_RECT, (3, 13))\n",
    "dilate = cv2.dilate(thresh, kernel, iterations=1)\n",
    "generate_image(dilate, \"dilate\")"
   ]
  },
  {
   "cell_type": "code",
   "execution_count": 12,
   "id": "fd327659-b737-416c-97ff-678917408b85",
   "metadata": {},
   "outputs": [],
   "source": [
    "cnts = cv2.findContours(dilate, cv2.RETR_EXTERNAL, cv2.CHAIN_APPROX_SIMPLE)\n",
    "cnts = cnts[0] if len(cnts) == 2 else cnts[1]\n",
    "cnts = sorted(cnts, key=lambda x: cv2.boundingRect(x)[0])"
   ]
  },
  {
   "cell_type": "code",
   "execution_count": 13,
   "id": "c655af2f-397c-4e24-a189-b92185c6d312",
   "metadata": {},
   "outputs": [],
   "source": [
    "results = []\n",
    "for c in cnts:\n",
    "    x, y, w, h = cv2.boundingRect(c)\n",
    "    if h > 200 and w > 20:\n",
    "        roi = image[y:y+h, x:x+w]\n",
    "        cv2.rectangle(image, (x, y), (x+w, y+h), (38, 255, 12), 2)\n",
    "        ocr_res = pytesseract.image_to_string(roi)\n",
    "        ocr_res = ocr_res.split(\"\\n\")\n",
    "        for i in ocr_res:\n",
    "            results.append(i)\n",
    "generate_image(image, \"image_bounding_box_new\")"
   ]
  },
  {
   "cell_type": "code",
   "execution_count": 15,
   "id": "3219d8af-7fd0-48d3-a888-aa2afd88c6c9",
   "metadata": {},
   "outputs": [
    {
     "name": "stdout",
     "output_type": "stream",
     "text": [
      "[' ', '', 'Abdel-Malek, A., 301, 319,', '', '495', '', 'Abernethy, D. B., 134f.', '', 'Achinger, H., 304', '', 'Adler, M., 479', '', 'The affluent worker in the', 'class structure, 336f.', '', 'Agarwala, S.N., 496', '', 'The Age of Affluence 1951-', '1964, 510', '', 'Agnelli, A., 145', '', 'Agosti, A., 514', '', 'Albrecht, W., 150', '', 'Alexander, R. J., 317', '', 'Der algerische Sozialismus,', '489', '', 'Almasy, E., 124', '', 'Alston, P. L., 343', '', 'Altholz, J. L., 510', '', 'Ammassari, G., 514', '', 'Anders, K., 150', '', 'Anderson, E. N., 485', '', 'Andréani, E., 330', '', 'Andréas, B., 331', '', 'Andreasi, A., 514', '', 'Andrews, W., 340', '', 'Angell, A., 491', '', 'Anikeev, V. V., 165', '', 'Anklage und Botschaft, 144', '', 'Annales de Démographie', 'Historique 1969, 305', '', 'Ansart, P., 123', '', 'Anweiler, O., 517', '', 'Archiv fiir Sozialgeschichte,', 'IX, 483', '', 'Archives de Jules Humbert-', '', 'Droz, I, 484', '', 'Archivi di “‘Giustizia e Liber-', '', 'ta” (1915-1945), 340', '', 'Arian, A., 143', '', 'Arima, T., 321f.', '', 'Aron, Raymond, 302', '', 'Aronson, G., 163', '', 'Ashraf, A., 319', '', 'Ashtor, E., 495', '', ' ', '', ' ', '', ' ', '\\x0c', ' ', '', 'Asociacién Internacional de', 'los Trabajadores. Actas de', 'los Consejos y Comisién', 'Federal de la Regién Es:', 'pafiola, 515', '', 'Atkin, R., 313', '', 'Atkinson, A. B., 156', '', 'Austromarxismus, 479', '', 'Auty, Ph., 345', '', 'Avakumovié, I., 165', '', 'Avrich, P., 343', '', 'Azmon, Y., 143', '', ' ', '', ' ', '', ' ', '\\x0c', ' ', '', 'Ba Maw, 140', 'Baer, G., 134', 'Bahlo, S., 1558.', 'Bahne, S., 484', 'Bailey, H. C., 314', 'Bairoch, P., 124', 'Bakoenin, M., vide 1', 'M.', 'Bakunin, M., 127, 3', 'Bakuninisti e soci:', 'Piceno, 513', 'Ballon, R. J., 498', 'Barbadoro, I., 160', 'Barnes, J. A., 133', 'Barrére, A., 303', 'Barry, R. H., 153f.', 'Bartel, H., 507', 'Bartke, W., 140f.', 'Bartley, N. V., 314', 'Bartoli, H., 303', 'Bastide, R., 499', 'Bauer, O., 479', 'Bayer-Lothe, J., 14', 'Bayod y Serrat, R.', 'Bebel, A., 505', 'Bécarud, J., 342', 'Bechhofer, F,, 336f.', 'Behr, W., 150', 'Benda, H. J., 495', 'Benn, A. W., 143', 'Bennassar, B., 161', 'Bennett, G., 489', '', ' ', '', ' ', '', ' ', '\\x0c', ' ', '', 'Beradt, Ch., 151', 'Berger, P. L., 480', 'Bergner, D., 123', 'Berman, M., 501', 'Bernard, L., 501', 'Bernstein, E., 506', 'Bernstein, E., 155', 'Bernstein, I., 492', 'Bernstein, S., 501', 'Berque, J., 322', 'Besnard, Ph., 479', 'Bethell, L., 305', 'Bethell, N., 161', 'Bibliography on Won', 'Workers, 487', 'Bingemer, K., 332', 'Bjorklund, C. J., 162', 'Blansdorf, A., 483', 'Blind, A., 304', 'Bloch, H. D., 137', 'Blum, E., 518', 'Boahen, A. A., 489', 'Bock, H. M., 126', 'Bohm, J., 308f.', 'Bogdanor, V., 510', 'Bohmann, A., 499', '', ' ', '', ' ', '', 'Boilet, G.-E., 149', 'Bolliger, M., 516', 'Bon, F., 502', '', 'Bopegamage, A., 481', 'Bormann, G., 155f.', 'Boserup, E., 310', 'Boswell, D. M., 133', 'Bourassa, H., 492', 'Bourguina, A., 162', 'Boyson, Rh., 156', 'Braun, R., 516f.', 'Bravo, G. M., 341, 5', 'Brendel, C., 300', 'Bricianer, S., 125', 'Briggs, A., 338', 'Briguglio, L., 513', 'Britain, V., 156', 'Brodhead, M. J., 137', 'Broekmeyer, M. J.,', '', ' ', '', ' ', '', ' ', '\\x0c']\n"
     ]
    }
   ],
   "source": [
    "print(results)"
   ]
  },
  {
   "cell_type": "code",
   "execution_count": 21,
   "id": "82c5ba70-11a3-445b-90dd-fc3f9a9c1e5c",
   "metadata": {},
   "outputs": [],
   "source": [
    "names = []\n",
    "for i in results:\n",
    "    i = i.strip().replace(\"\\n\", \"\")\n",
    "    i = i.split(\" \")[0]\n",
    "    if len(i) > 2:\n",
    "        if i[0] == \"A\" or i[0] == \"B\":    \n",
    "            names.append(i)"
   ]
  },
  {
   "cell_type": "code",
   "execution_count": 22,
   "id": "2426dccb-4725-4d89-bc7c-4a22fec5a2b2",
   "metadata": {},
   "outputs": [
    {
     "name": "stdout",
     "output_type": "stream",
     "text": [
      "['Abdel-Malek,', 'Abernethy,', 'Achinger,', 'Adler,', 'Agarwala,', 'Agnelli,', 'Agosti,', 'Albrecht,', 'Alexander,', 'Almasy,', 'Alston,', 'Altholz,', 'Ammassari,', 'Anders,', 'Anderson,', 'Andréani,', 'Andréas,', 'Andreasi,', 'Andrews,', 'Angell,', 'Anikeev,', 'Anklage', 'Annales', 'Ansart,', 'Anweiler,', 'Archiv', 'Archives', 'Archivi', 'Arian,', 'Arima,', 'Aron,', 'Aronson,', 'Ashraf,', 'Ashtor,', 'Asociacién', 'Atkin,', 'Atkinson,', 'Austromarxismus,', 'Auty,', 'Avakumovié,', 'Avrich,', 'Azmon,', 'Baer,', 'Bahlo,', 'Bahne,', 'Bailey,', 'Bairoch,', 'Bakoenin,', 'Bakunin,', 'Bakuninisti', 'Ballon,', 'Barbadoro,', 'Barnes,', 'Barrére,', 'Barry,', 'Bartel,', 'Bartke,', 'Bartley,', 'Bartoli,', 'Bastide,', 'Bauer,', 'Bayer-Lothe,', 'Bayod', 'Bebel,', 'Bécarud,', 'Bechhofer,', 'Behr,', 'Benda,', 'Benn,', 'Bennassar,', 'Bennett,', 'Beradt,', 'Berger,', 'Bergner,', 'Berman,', 'Bernard,', 'Bernstein,', 'Bernstein,', 'Bernstein,', 'Bernstein,', 'Berque,', 'Besnard,', 'Bethell,', 'Bethell,', 'Bibliography', 'Bingemer,', 'Bjorklund,', 'Blansdorf,', 'Blind,', 'Bloch,', 'Blum,', 'Boahen,', 'Bock,', 'Bohm,', 'Bogdanor,', 'Bohmann,', 'Boilet,', 'Bolliger,', 'Bon,', 'Bopegamage,', 'Bormann,', 'Boserup,', 'Boswell,', 'Bourassa,', 'Bourguina,', 'Boyson,', 'Braun,', 'Bravo,', 'Brendel,', 'Bricianer,', 'Briggs,', 'Briguglio,', 'Britain,', 'Brodhead,', 'Broekmeyer,']\n"
     ]
    }
   ],
   "source": [
    "print(names)"
   ]
  },
  {
   "cell_type": "code",
   "execution_count": null,
   "id": "92161b31-b1e4-426d-9e00-3378f5d6db73",
   "metadata": {},
   "outputs": [],
   "source": []
  }
 ],
 "metadata": {
  "kernelspec": {
   "display_name": "Python 3 (ipykernel)",
   "language": "python",
   "name": "python3"
  },
  "language_info": {
   "codemirror_mode": {
    "name": "ipython",
    "version": 3
   },
   "file_extension": ".py",
   "mimetype": "text/x-python",
   "name": "python",
   "nbconvert_exporter": "python",
   "pygments_lexer": "ipython3",
   "version": "3.9.13"
  }
 },
 "nbformat": 4,
 "nbformat_minor": 5
}
